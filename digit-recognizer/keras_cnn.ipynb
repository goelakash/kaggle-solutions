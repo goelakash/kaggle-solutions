{
 "cells": [
  {
   "cell_type": "code",
   "execution_count": 68,
   "metadata": {},
   "outputs": [],
   "source": [
    "import keras\n",
    "from keras.models import Sequential\n",
    "import math"
   ]
  },
  {
   "cell_type": "code",
   "execution_count": 30,
   "metadata": {},
   "outputs": [],
   "source": [
    "from keras.layers import Dense, Conv2D, MaxPooling2D, Activation, Dropout, Flatten"
   ]
  },
  {
   "cell_type": "code",
   "execution_count": 36,
   "metadata": {},
   "outputs": [],
   "source": [
    "import pandas as pd\n",
    "import numpy as np"
   ]
  },
  {
   "cell_type": "code",
   "execution_count": 5,
   "metadata": {},
   "outputs": [],
   "source": [
    "data = pd.read_csv('data/train.csv')"
   ]
  },
  {
   "cell_type": "code",
   "execution_count": 6,
   "metadata": {},
   "outputs": [
    {
     "data": {
      "text/plain": [
       "Index(['label', 'pixel0', 'pixel1', 'pixel2', 'pixel3', 'pixel4', 'pixel5',\n",
       "       'pixel6', 'pixel7', 'pixel8',\n",
       "       ...\n",
       "       'pixel774', 'pixel775', 'pixel776', 'pixel777', 'pixel778', 'pixel779',\n",
       "       'pixel780', 'pixel781', 'pixel782', 'pixel783'],\n",
       "      dtype='object', length=785)"
      ]
     },
     "execution_count": 6,
     "metadata": {},
     "output_type": "execute_result"
    }
   ],
   "source": [
    "data.columns\n"
   ]
  },
  {
   "cell_type": "code",
   "execution_count": 53,
   "metadata": {},
   "outputs": [
    {
     "name": "stdout",
     "output_type": "stream",
     "text": [
      "[1 0 1 4 0 0 7 3 5 3]\n"
     ]
    }
   ],
   "source": [
    "labels = data['label'].values\n",
    "print(labels[:10])"
   ]
  },
  {
   "cell_type": "code",
   "execution_count": 16,
   "metadata": {},
   "outputs": [],
   "source": [
    "images = data.drop(['label'], axis=1).values"
   ]
  },
  {
   "cell_type": "code",
   "execution_count": 23,
   "metadata": {},
   "outputs": [],
   "source": [
    "NUM_CLASSES = 10\n",
    "BATCH_SIZE = 32\n",
    "N_EPOCHS = 20\n",
    "KERNEL_SIZE = 3\n",
    "ROWS = 28\n",
    "COLUMNS = 28\n",
    "CHANNELS = 1"
   ]
  },
  {
   "cell_type": "code",
   "execution_count": 55,
   "metadata": {},
   "outputs": [],
   "source": [
    "train_data = []\n",
    "val_data = []\n",
    "train_label = []\n",
    "val_label = []\n",
    "\n",
    "# populate training and validation datasets\n",
    "for i,label in enumerate(labels):\n",
    "    if (i+1)%5 != 0: # non-multiples of 5 to be in training set, i.e., 80%\n",
    "        train_label.append([1 if label == i else 0 for i in range(10) ])\n",
    "        train_data.append(images[i])\n",
    "    else:\n",
    "        val_label.append([1 if label == i else 0 for i in range(10)])\n",
    "        val_data.append(images[i])\n",
    "# print(train_label[:10])\n",
    "# print(val_label[:5])\n",
    "train_data = np.asarray(train_data).reshape(-1,ROWS, COLUMNS, CHANNELS)\n",
    "val_data = np.asarray(val_data).reshape(-1,ROWS, COLUMNS, CHANNELS)\n",
    "train_label = np.asarray(train_label)\n",
    "val_label = np.asarray(val_label)\n"
   ]
  },
  {
   "cell_type": "code",
   "execution_count": 56,
   "metadata": {},
   "outputs": [],
   "source": [
    "# print(len(train_data), len(val_data))\n",
    "# print(len(train_label), len(val_label))"
   ]
  },
  {
   "cell_type": "code",
   "execution_count": 57,
   "metadata": {},
   "outputs": [],
   "source": [
    "model = Sequential()\n",
    "model.add(Conv2D(BATCH_SIZE, kernel_size=(KERNEL_SIZE, KERNEL_SIZE), activation='relu', input_shape=(ROWS, COLUMNS, CHANNELS)))\n",
    "model.add(Conv2D(64, (3, 3), activation='relu'))\n",
    "model.add(MaxPooling2D(pool_size=(2, 2)))\n",
    "model.add(Dropout(0.25))\n",
    "model.add(Flatten())\n",
    "model.add(Dense(128, activation='relu'))\n",
    "model.add(Dropout(0.5))\n",
    "model.add(Dense(NUM_CLASSES, activation='softmax'))"
   ]
  },
  {
   "cell_type": "code",
   "execution_count": 58,
   "metadata": {},
   "outputs": [],
   "source": [
    "model.compile(loss=keras.losses.categorical_crossentropy,\n",
    "              optimizer=keras.optimizers.Adadelta(),\n",
    "metrics=['accuracy'])"
   ]
  },
  {
   "cell_type": "code",
   "execution_count": 59,
   "metadata": {},
   "outputs": [
    {
     "name": "stdout",
     "output_type": "stream",
     "text": [
      "Train on 33600 samples, validate on 8400 samples\n",
      "Epoch 1/20\n",
      "33600/33600 [==============================] - 204s 6ms/step - loss: 14.5073 - acc: 0.0999 - val_loss: 14.5236 - val_acc: 0.0989\n",
      "Epoch 2/20\n",
      "33600/33600 [==============================] - 301s 9ms/step - loss: 14.5077 - acc: 0.0999 - val_loss: 14.5236 - val_acc: 0.0989\n",
      "Epoch 3/20\n",
      "33600/33600 [==============================] - 128s 4ms/step - loss: 14.5077 - acc: 0.0999 - val_loss: 14.5236 - val_acc: 0.0989\n",
      "Epoch 4/20\n",
      "33600/33600 [==============================] - 102s 3ms/step - loss: 14.5077 - acc: 0.0999 - val_loss: 14.5236 - val_acc: 0.0989\n",
      "Epoch 5/20\n",
      "33600/33600 [==============================] - 105s 3ms/step - loss: 14.5077 - acc: 0.0999 - val_loss: 14.5236 - val_acc: 0.0989\n",
      "Epoch 6/20\n",
      "33600/33600 [==============================] - 105s 3ms/step - loss: 14.5077 - acc: 0.0999 - val_loss: 14.5236 - val_acc: 0.0989\n",
      "Epoch 7/20\n",
      "33600/33600 [==============================] - 104s 3ms/step - loss: 14.5077 - acc: 0.0999 - val_loss: 14.5236 - val_acc: 0.0989\n",
      "Epoch 8/20\n",
      "33600/33600 [==============================] - 102s 3ms/step - loss: 14.5077 - acc: 0.0999 - val_loss: 14.5236 - val_acc: 0.0989\n",
      "Epoch 9/20\n",
      "33600/33600 [==============================] - 102s 3ms/step - loss: 14.5077 - acc: 0.0999 - val_loss: 14.5236 - val_acc: 0.0989\n",
      "Epoch 10/20\n",
      "33600/33600 [==============================] - 102s 3ms/step - loss: 14.5077 - acc: 0.0999 - val_loss: 14.5236 - val_acc: 0.0989\n",
      "Epoch 11/20\n",
      "33600/33600 [==============================] - 102s 3ms/step - loss: 14.5077 - acc: 0.0999 - val_loss: 14.5236 - val_acc: 0.0989\n",
      "Epoch 12/20\n",
      "33600/33600 [==============================] - 102s 3ms/step - loss: 14.5077 - acc: 0.0999 - val_loss: 14.5236 - val_acc: 0.0989\n",
      "Epoch 13/20\n",
      "33600/33600 [==============================] - 102s 3ms/step - loss: 14.5077 - acc: 0.0999 - val_loss: 14.5236 - val_acc: 0.0989\n",
      "Epoch 14/20\n",
      "33600/33600 [==============================] - 102s 3ms/step - loss: 14.5077 - acc: 0.0999 - val_loss: 14.5236 - val_acc: 0.0989\n",
      "Epoch 15/20\n",
      "33600/33600 [==============================] - 101s 3ms/step - loss: 14.5077 - acc: 0.0999 - val_loss: 14.5236 - val_acc: 0.0989\n",
      "Epoch 16/20\n",
      "33600/33600 [==============================] - 102s 3ms/step - loss: 14.5077 - acc: 0.0999 - val_loss: 14.5236 - val_acc: 0.0989\n",
      "Epoch 17/20\n",
      "33600/33600 [==============================] - 103s 3ms/step - loss: 14.5077 - acc: 0.0999 - val_loss: 14.5236 - val_acc: 0.0989\n",
      "Epoch 18/20\n",
      "33600/33600 [==============================] - 101s 3ms/step - loss: 14.5077 - acc: 0.0999 - val_loss: 14.5236 - val_acc: 0.0989\n",
      "Epoch 19/20\n",
      "33600/33600 [==============================] - 101s 3ms/step - loss: 14.5077 - acc: 0.0999 - val_loss: 14.5236 - val_acc: 0.0989\n",
      "Epoch 20/20\n",
      "33600/33600 [==============================] - 102s 3ms/step - loss: 13.4692 - acc: 0.1513 - val_loss: 0.3542 - val_acc: 0.8924\n",
      "8400/8400 [==============================] - 5s 621us/step\n",
      "Test loss: 0.3541544588974544\n",
      "Test accuracy: 0.8923809523809524\n"
     ]
    }
   ],
   "source": [
    "model.fit(train_data, train_label, batch_size=BATCH_SIZE, epochs=N_EPOCHS, verbose=1, validation_data=(val_data, val_label))\n",
    "score = model.evaluate(val_data, val_label)\n",
    "print('Test loss:', score[0])\n",
    "print('Test accuracy:', score[1])"
   ]
  },
  {
   "cell_type": "code",
   "execution_count": 60,
   "metadata": {},
   "outputs": [],
   "source": [
    "test_data = pd.read_csv('data/test.csv')"
   ]
  },
  {
   "cell_type": "code",
   "execution_count": 61,
   "metadata": {},
   "outputs": [
    {
     "data": {
      "text/plain": [
       "Index(['pixel0', 'pixel1', 'pixel2', 'pixel3', 'pixel4', 'pixel5', 'pixel6',\n",
       "       'pixel7', 'pixel8', 'pixel9',\n",
       "       ...\n",
       "       'pixel774', 'pixel775', 'pixel776', 'pixel777', 'pixel778', 'pixel779',\n",
       "       'pixel780', 'pixel781', 'pixel782', 'pixel783'],\n",
       "      dtype='object', length=784)"
      ]
     },
     "execution_count": 61,
     "metadata": {},
     "output_type": "execute_result"
    }
   ],
   "source": [
    "test_data.columns"
   ]
  },
  {
   "cell_type": "code",
   "execution_count": 63,
   "metadata": {},
   "outputs": [],
   "source": [
    "test_set = np.asarray(test_data.values).reshape(-1, ROWS, COLUMNS, CHANNELS)"
   ]
  },
  {
   "cell_type": "code",
   "execution_count": 66,
   "metadata": {},
   "outputs": [
    {
     "name": "stdout",
     "output_type": "stream",
     "text": [
      "28000/28000 [==============================] - 20s 699us/step\n"
     ]
    }
   ],
   "source": [
    "output_labels = model.predict(test_set, verbose=1)"
   ]
  },
  {
   "cell_type": "code",
   "execution_count": 67,
   "metadata": {},
   "outputs": [
    {
     "data": {
      "text/plain": [
       "array([[2.0192203e-06, 4.8307438e-09, 9.9998522e-01, 3.5436965e-06,\n",
       "        5.2417937e-07, 2.2048705e-06, 8.6239169e-08, 1.4870874e-06,\n",
       "        4.0162081e-06, 8.9675444e-07],\n",
       "       [9.9955684e-01, 8.5313189e-07, 1.1622134e-05, 5.4525037e-07,\n",
       "        3.0490878e-06, 3.2886321e-04, 2.5576024e-05, 6.8826404e-05,\n",
       "        3.4213456e-06, 6.7712541e-08]], dtype=float32)"
      ]
     },
     "execution_count": 67,
     "metadata": {},
     "output_type": "execute_result"
    }
   ],
   "source": [
    "output_labels[:2]"
   ]
  },
  {
   "cell_type": "code",
   "execution_count": 71,
   "metadata": {},
   "outputs": [],
   "source": [
    "result = []\n",
    "for output_arr in output_labels:\n",
    "    result.append(np.argmax(output_arr))"
   ]
  },
  {
   "cell_type": "code",
   "execution_count": 72,
   "metadata": {},
   "outputs": [
    {
     "data": {
      "text/plain": [
       "[2, 0]"
      ]
     },
     "execution_count": 72,
     "metadata": {},
     "output_type": "execute_result"
    }
   ],
   "source": [
    "result[:2]"
   ]
  },
  {
   "cell_type": "code",
   "execution_count": 73,
   "metadata": {},
   "outputs": [
    {
     "data": {
      "text/plain": [
       "28000"
      ]
     },
     "execution_count": 73,
     "metadata": {},
     "output_type": "execute_result"
    }
   ],
   "source": [
    "len(result)"
   ]
  },
  {
   "cell_type": "code",
   "execution_count": 91,
   "metadata": {},
   "outputs": [],
   "source": [
    "output_dataframe = pd.DataFrame(result, index=[i+1 for i in range(len(result))], columns=['Label'])"
   ]
  },
  {
   "cell_type": "code",
   "execution_count": 92,
   "metadata": {},
   "outputs": [
    {
     "data": {
      "text/html": [
       "<div>\n",
       "<style scoped>\n",
       "    .dataframe tbody tr th:only-of-type {\n",
       "        vertical-align: middle;\n",
       "    }\n",
       "\n",
       "    .dataframe tbody tr th {\n",
       "        vertical-align: top;\n",
       "    }\n",
       "\n",
       "    .dataframe thead th {\n",
       "        text-align: right;\n",
       "    }\n",
       "</style>\n",
       "<table border=\"1\" class=\"dataframe\">\n",
       "  <thead>\n",
       "    <tr style=\"text-align: right;\">\n",
       "      <th></th>\n",
       "      <th>Label</th>\n",
       "    </tr>\n",
       "    <tr>\n",
       "      <th>ImageId</th>\n",
       "      <th></th>\n",
       "    </tr>\n",
       "  </thead>\n",
       "  <tbody>\n",
       "    <tr>\n",
       "      <th>1</th>\n",
       "      <td>2</td>\n",
       "    </tr>\n",
       "    <tr>\n",
       "      <th>2</th>\n",
       "      <td>0</td>\n",
       "    </tr>\n",
       "    <tr>\n",
       "      <th>3</th>\n",
       "      <td>9</td>\n",
       "    </tr>\n",
       "    <tr>\n",
       "      <th>4</th>\n",
       "      <td>7</td>\n",
       "    </tr>\n",
       "    <tr>\n",
       "      <th>5</th>\n",
       "      <td>3</td>\n",
       "    </tr>\n",
       "    <tr>\n",
       "      <th>6</th>\n",
       "      <td>7</td>\n",
       "    </tr>\n",
       "    <tr>\n",
       "      <th>7</th>\n",
       "      <td>0</td>\n",
       "    </tr>\n",
       "    <tr>\n",
       "      <th>8</th>\n",
       "      <td>3</td>\n",
       "    </tr>\n",
       "    <tr>\n",
       "      <th>9</th>\n",
       "      <td>0</td>\n",
       "    </tr>\n",
       "    <tr>\n",
       "      <th>10</th>\n",
       "      <td>3</td>\n",
       "    </tr>\n",
       "    <tr>\n",
       "      <th>11</th>\n",
       "      <td>5</td>\n",
       "    </tr>\n",
       "    <tr>\n",
       "      <th>12</th>\n",
       "      <td>7</td>\n",
       "    </tr>\n",
       "    <tr>\n",
       "      <th>13</th>\n",
       "      <td>8</td>\n",
       "    </tr>\n",
       "    <tr>\n",
       "      <th>14</th>\n",
       "      <td>0</td>\n",
       "    </tr>\n",
       "    <tr>\n",
       "      <th>15</th>\n",
       "      <td>4</td>\n",
       "    </tr>\n",
       "    <tr>\n",
       "      <th>16</th>\n",
       "      <td>3</td>\n",
       "    </tr>\n",
       "    <tr>\n",
       "      <th>17</th>\n",
       "      <td>3</td>\n",
       "    </tr>\n",
       "    <tr>\n",
       "      <th>18</th>\n",
       "      <td>1</td>\n",
       "    </tr>\n",
       "    <tr>\n",
       "      <th>19</th>\n",
       "      <td>9</td>\n",
       "    </tr>\n",
       "    <tr>\n",
       "      <th>20</th>\n",
       "      <td>0</td>\n",
       "    </tr>\n",
       "    <tr>\n",
       "      <th>21</th>\n",
       "      <td>9</td>\n",
       "    </tr>\n",
       "    <tr>\n",
       "      <th>22</th>\n",
       "      <td>1</td>\n",
       "    </tr>\n",
       "    <tr>\n",
       "      <th>23</th>\n",
       "      <td>8</td>\n",
       "    </tr>\n",
       "    <tr>\n",
       "      <th>24</th>\n",
       "      <td>5</td>\n",
       "    </tr>\n",
       "    <tr>\n",
       "      <th>25</th>\n",
       "      <td>7</td>\n",
       "    </tr>\n",
       "    <tr>\n",
       "      <th>26</th>\n",
       "      <td>4</td>\n",
       "    </tr>\n",
       "    <tr>\n",
       "      <th>27</th>\n",
       "      <td>2</td>\n",
       "    </tr>\n",
       "    <tr>\n",
       "      <th>28</th>\n",
       "      <td>7</td>\n",
       "    </tr>\n",
       "    <tr>\n",
       "      <th>29</th>\n",
       "      <td>7</td>\n",
       "    </tr>\n",
       "    <tr>\n",
       "      <th>30</th>\n",
       "      <td>7</td>\n",
       "    </tr>\n",
       "    <tr>\n",
       "      <th>...</th>\n",
       "      <td>...</td>\n",
       "    </tr>\n",
       "    <tr>\n",
       "      <th>27971</th>\n",
       "      <td>5</td>\n",
       "    </tr>\n",
       "    <tr>\n",
       "      <th>27972</th>\n",
       "      <td>6</td>\n",
       "    </tr>\n",
       "    <tr>\n",
       "      <th>27973</th>\n",
       "      <td>4</td>\n",
       "    </tr>\n",
       "    <tr>\n",
       "      <th>27974</th>\n",
       "      <td>8</td>\n",
       "    </tr>\n",
       "    <tr>\n",
       "      <th>27975</th>\n",
       "      <td>0</td>\n",
       "    </tr>\n",
       "    <tr>\n",
       "      <th>27976</th>\n",
       "      <td>3</td>\n",
       "    </tr>\n",
       "    <tr>\n",
       "      <th>27977</th>\n",
       "      <td>6</td>\n",
       "    </tr>\n",
       "    <tr>\n",
       "      <th>27978</th>\n",
       "      <td>0</td>\n",
       "    </tr>\n",
       "    <tr>\n",
       "      <th>27979</th>\n",
       "      <td>1</td>\n",
       "    </tr>\n",
       "    <tr>\n",
       "      <th>27980</th>\n",
       "      <td>9</td>\n",
       "    </tr>\n",
       "    <tr>\n",
       "      <th>27981</th>\n",
       "      <td>3</td>\n",
       "    </tr>\n",
       "    <tr>\n",
       "      <th>27982</th>\n",
       "      <td>1</td>\n",
       "    </tr>\n",
       "    <tr>\n",
       "      <th>27983</th>\n",
       "      <td>8</td>\n",
       "    </tr>\n",
       "    <tr>\n",
       "      <th>27984</th>\n",
       "      <td>0</td>\n",
       "    </tr>\n",
       "    <tr>\n",
       "      <th>27985</th>\n",
       "      <td>4</td>\n",
       "    </tr>\n",
       "    <tr>\n",
       "      <th>27986</th>\n",
       "      <td>3</td>\n",
       "    </tr>\n",
       "    <tr>\n",
       "      <th>27987</th>\n",
       "      <td>2</td>\n",
       "    </tr>\n",
       "    <tr>\n",
       "      <th>27988</th>\n",
       "      <td>2</td>\n",
       "    </tr>\n",
       "    <tr>\n",
       "      <th>27989</th>\n",
       "      <td>9</td>\n",
       "    </tr>\n",
       "    <tr>\n",
       "      <th>27990</th>\n",
       "      <td>6</td>\n",
       "    </tr>\n",
       "    <tr>\n",
       "      <th>27991</th>\n",
       "      <td>7</td>\n",
       "    </tr>\n",
       "    <tr>\n",
       "      <th>27992</th>\n",
       "      <td>6</td>\n",
       "    </tr>\n",
       "    <tr>\n",
       "      <th>27993</th>\n",
       "      <td>1</td>\n",
       "    </tr>\n",
       "    <tr>\n",
       "      <th>27994</th>\n",
       "      <td>9</td>\n",
       "    </tr>\n",
       "    <tr>\n",
       "      <th>27995</th>\n",
       "      <td>7</td>\n",
       "    </tr>\n",
       "    <tr>\n",
       "      <th>27996</th>\n",
       "      <td>9</td>\n",
       "    </tr>\n",
       "    <tr>\n",
       "      <th>27997</th>\n",
       "      <td>7</td>\n",
       "    </tr>\n",
       "    <tr>\n",
       "      <th>27998</th>\n",
       "      <td>3</td>\n",
       "    </tr>\n",
       "    <tr>\n",
       "      <th>27999</th>\n",
       "      <td>9</td>\n",
       "    </tr>\n",
       "    <tr>\n",
       "      <th>28000</th>\n",
       "      <td>2</td>\n",
       "    </tr>\n",
       "  </tbody>\n",
       "</table>\n",
       "<p>28000 rows × 1 columns</p>\n",
       "</div>"
      ],
      "text/plain": [
       "         Label\n",
       "ImageId       \n",
       "1            2\n",
       "2            0\n",
       "3            9\n",
       "4            7\n",
       "5            3\n",
       "6            7\n",
       "7            0\n",
       "8            3\n",
       "9            0\n",
       "10           3\n",
       "11           5\n",
       "12           7\n",
       "13           8\n",
       "14           0\n",
       "15           4\n",
       "16           3\n",
       "17           3\n",
       "18           1\n",
       "19           9\n",
       "20           0\n",
       "21           9\n",
       "22           1\n",
       "23           8\n",
       "24           5\n",
       "25           7\n",
       "26           4\n",
       "27           2\n",
       "28           7\n",
       "29           7\n",
       "30           7\n",
       "...        ...\n",
       "27971        5\n",
       "27972        6\n",
       "27973        4\n",
       "27974        8\n",
       "27975        0\n",
       "27976        3\n",
       "27977        6\n",
       "27978        0\n",
       "27979        1\n",
       "27980        9\n",
       "27981        3\n",
       "27982        1\n",
       "27983        8\n",
       "27984        0\n",
       "27985        4\n",
       "27986        3\n",
       "27987        2\n",
       "27988        2\n",
       "27989        9\n",
       "27990        6\n",
       "27991        7\n",
       "27992        6\n",
       "27993        1\n",
       "27994        9\n",
       "27995        7\n",
       "27996        9\n",
       "27997        7\n",
       "27998        3\n",
       "27999        9\n",
       "28000        2\n",
       "\n",
       "[28000 rows x 1 columns]"
      ]
     },
     "execution_count": 92,
     "metadata": {},
     "output_type": "execute_result"
    }
   ],
   "source": [
    "output_dataframe.index.name = 'ImageId'\n",
    "output_dataframe"
   ]
  },
  {
   "cell_type": "code",
   "execution_count": 93,
   "metadata": {},
   "outputs": [],
   "source": [
    "output_dataframe.to_csv('keras_cnn.csv')"
   ]
  },
  {
   "cell_type": "code",
   "execution_count": null,
   "metadata": {},
   "outputs": [],
   "source": []
  }
 ],
 "metadata": {
  "kernelspec": {
   "display_name": "Python 3",
   "language": "python",
   "name": "python3"
  },
  "language_info": {
   "codemirror_mode": {
    "name": "ipython",
    "version": 3
   },
   "file_extension": ".py",
   "mimetype": "text/x-python",
   "name": "python",
   "nbconvert_exporter": "python",
   "pygments_lexer": "ipython3",
   "version": "3.6.6"
  }
 },
 "nbformat": 4,
 "nbformat_minor": 2
}
